{
 "cells": [
  {
   "cell_type": "code",
   "execution_count": null,
   "id": "101d858d-e6df-4e6c-9ec7-826dfcf05ada",
   "metadata": {},
   "outputs": [],
   "source": [
    "import pandas as pd \n",
    "import numpy as np \n",
    "from utils import log_wrapper_for_logged_data, DICT_RC_PARAM"
   ]
  },
  {
   "cell_type": "code",
   "execution_count": null,
   "id": "0ead3d72-f8b0-41ec-bd73-3a5f85d8e003",
   "metadata": {},
   "outputs": [],
   "source": [
    "rs = np.array([1.   , 1.415, 2., 2.237, 2.829, 3., 3.163, 3.606, 4., 4.124, 4.243, 4.473, 5., 5.1, 5.386, 5.657, 5.831, 6.0])"
   ]
  },
  {
   "cell_type": "code",
   "execution_count": null,
   "id": "293da527-a814-432b-9e8f-77ddf2785c77",
   "metadata": {},
   "outputs": [],
   "source": [
    "L=21\n",
    "d=0.8\n",
    "all_degs = []\n",
    "all_hardness = []\n",
    "all_degs_median = []\n",
    "all_hardness_median = []\n",
    "all_hardness_mean = []\n",
    "\n",
    "for radius in rs:\n",
    "    degs = []\n",
    "    hardness = []\n",
    "    df = pd.read_csv(f'../counter/data/process_time_L21_d0.8_r{radius}.csv')\n",
    "    for seed in range(1000):\n",
    "        new_df = df[df['seed'] ==seed]\n",
    "        degs.append(new_df['D_MIS'][seed]/(L*L*d))\n",
    "        hardness.append(new_df['D_(MIS-1)'][seed] / (new_df['D_MIS'][seed]*new_df['MIS'][seed]))\n",
    "    all_degs.append(degs)\n",
    "    all_hardness.append(hardness)\n",
    "    all_degs_median.append(np.median(degs))\n",
    "    all_hardness_median.append(np.median(hardness))\n",
    "    all_hardness_mean.append(np.mean(hardness))"
   ]
  },
  {
   "cell_type": "code",
   "execution_count": null,
   "id": "75531286-7071-4aa7-a29f-db8db209661d",
   "metadata": {},
   "outputs": [],
   "source": [
    "df = pd.DataFrame()\n",
    "for i in range(len(rs)):\n",
    "    radius = rs[i]\n",
    "    df[radius] = all_hardness[i]"
   ]
  },
  {
   "cell_type": "code",
   "execution_count": null,
   "id": "0dec800b-c042-4c45-90d1-09a4ddbc29c6",
   "metadata": {},
   "outputs": [],
   "source": [
    "df"
   ]
  },
  {
   "cell_type": "code",
   "execution_count": null,
   "id": "390a695b-02d0-4d4d-b4d9-e185bece5238",
   "metadata": {},
   "outputs": [],
   "source": [
    "import matplotlib.pyplot as plt\n",
    "fig, ax = plt.subplots(figsize=(15,10))\n",
    "\n",
    "plt.rcParams.update(DICT_RC_PARAM)\n",
    "\n",
    "means = []\n",
    "for value in df.columns.values:\n",
    "    means.append(np.median(df[value]))\n",
    "\n",
    "bp1 = ax.boxplot(np.log10(df), positions = rs, widths=0.1, showfliers=False)\n",
    "plt.setp(bp1['boxes'], color='blue')\n",
    "plt.setp(bp1['whiskers'], color='blue')\n",
    "plt.setp(bp1['medians'], color='blue')\n",
    "scatter = ax.plot([float(r) for r in df.columns.values], np.log10(means), 'b-')\n",
    "ax.set_xticks(range(7)[1:])\n",
    "ax.set_xticklabels(range(7)[1:])\n",
    "ax.set_xlabel(\"Radius of UDG\")\n",
    "ax.set_ylabel(\"HP\")\n",
    "\n",
    "ax.grid()"
   ]
  },
  {
   "cell_type": "code",
   "execution_count": null,
   "id": "68059b3f-4323-444b-9023-8274437a732b",
   "metadata": {},
   "outputs": [],
   "source": [
    "counter_times = []\n",
    "\n",
    "for radius in rs:\n",
    "    #print(radius)\n",
    "    counter_time = []\n",
    "    df = pd.read_csv(f'../counter/data/process_time_L21_d0.8_r{radius}.csv')\n",
    "    for seed in range(100):\n",
    "        #print(seed)\n",
    "        new_df = df[df['seed'] ==seed]\n",
    "        counter_time.append(new_df['Process time counter'].values[0])\n",
    "        \n",
    "    counter_times.append(counter_time)"
   ]
  },
  {
   "cell_type": "code",
   "execution_count": null,
   "id": "e266e6db-1d1e-467f-bc4e-82307ee8e504",
   "metadata": {},
   "outputs": [],
   "source": [
    "df = pd.DataFrame()\n",
    "\n",
    "\n",
    "for i in range(len(rs)):\n",
    "    radius = rs[i]\n",
    "    df[radius] = counter_times[i]\n",
    "    \n"
   ]
  },
  {
   "cell_type": "code",
   "execution_count": null,
   "id": "6725c27d-63d4-46ad-9928-9358de3fa2fa",
   "metadata": {},
   "outputs": [],
   "source": [
    "df"
   ]
  },
  {
   "cell_type": "code",
   "execution_count": null,
   "id": "3bebd727-93d2-4800-a83d-7f0982105af1",
   "metadata": {},
   "outputs": [],
   "source": [
    "fig, ax = plt.subplots(figsize=(15,10))\n",
    "%matplotlib inline\n",
    "plt.rcParams.update(DICT_RC_PARAM)\n",
    "\n",
    "means = []\n",
    "for value in df.columns.values:\n",
    "    means.append(np.median(df[value]))\n",
    "\n",
    "#bp1 = ax.boxplot(np.log10(df), positions = [float(r) for r in df.columns.values], widths=0.2)\n",
    "bp1 = ax.boxplot(np.log10(df), positions = rs, widths=0.1, showfliers=False)\n",
    "plt.setp(bp1['boxes'], color='blue')\n",
    "plt.setp(bp1['whiskers'], color='blue')\n",
    "plt.setp(bp1['medians'], color='blue')\n",
    "scatter = ax.plot([float(r) for r in df.columns.values], np.log10(means), 'b-')\n",
    "#scatter = ax.plot([float(r) for r in df.columns.values], means, 'b-')\n",
    "\n",
    "#ax.legend([bp1[\"boxes\"][0]], ['L=21, d=0.8'], loc='upper right')\n",
    "ax.set_xticks(range(7)[1:])\n",
    "ax.set_xticklabels(range(7)[1:])\n",
    "ax.set_xlabel(\"Radius of UDG\")\n",
    "ax.set_ylabel(\"TTS (SLA)\")\n",
    "#ax.set_yscale('log')\n",
    "\n",
    "\n",
    "#log_wrapper_for_logged_data(ax, y_axis=True)\n",
    "ax.grid()\n",
    "\n",
    "plt.savefig('sweepingline_vs_radius.png')"
   ]
  },
  {
   "cell_type": "code",
   "execution_count": null,
   "id": "25a9b5fb-1d9b-4fbe-82a2-9e32e6ccb07e",
   "metadata": {},
   "outputs": [],
   "source": []
  }
 ],
 "metadata": {
  "kernelspec": {
   "display_name": "py38_aws_cplex",
   "language": "python",
   "name": "py38"
  },
  "language_info": {
   "codemirror_mode": {
    "name": "ipython",
    "version": 3
   },
   "file_extension": ".py",
   "mimetype": "text/x-python",
   "name": "python",
   "nbconvert_exporter": "python",
   "pygments_lexer": "ipython3",
   "version": "3.8.11"
  }
 },
 "nbformat": 4,
 "nbformat_minor": 5
}
