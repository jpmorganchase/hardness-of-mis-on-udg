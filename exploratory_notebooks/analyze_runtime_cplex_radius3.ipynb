{
 "cells": [
  {
   "cell_type": "code",
   "execution_count": null,
   "id": "5dc8b03b-7c8b-4e1a-9916-961c92b9df8b",
   "metadata": {},
   "outputs": [],
   "source": [
    "import numpy as np\n",
    "import matplotlib.pyplot as plt\n",
    "import pandas as pd\n",
    "\n",
    "from sklearn.linear_model import LinearRegression\n",
    "from utils import log_wrapper_for_logged_data, DICT_RC_PARAM"
   ]
  },
  {
   "cell_type": "code",
   "execution_count": null,
   "id": "3f651f09-8d6f-436d-9412-e0ecf09e15e6",
   "metadata": {},
   "outputs": [],
   "source": [
    "df = pd.read_csv(\n",
    "    \"../generator/data/cplex/final_results/scaling_with_size/UDG_r3_scaling.csv\"\n",
    ")"
   ]
  },
  {
   "cell_type": "code",
   "execution_count": null,
   "id": "6e3d5983-40c4-42c6-b30c-d9b92f310f1e",
   "metadata": {},
   "outputs": [],
   "source": [
    "df.drop(df[df[\"Seed\"] > 100].index, inplace=True)"
   ]
  },
  {
   "cell_type": "code",
   "execution_count": null,
   "id": "f19167e9-bf67-4ba8-9e1b-2cf7164ac9d4",
   "metadata": {},
   "outputs": [],
   "source": [
    "df[\"log10 Process TTS\"] = np.log10(df[\"Process TTS\"])\n",
    "df[\"log2 Process TTS\"] = np.log2(df[\"Process TTS\"])\n",
    "df[\"N\"] = np.round(df[\"L\"] ** 2 * df[\"Density\"]).astype(int)"
   ]
  },
  {
   "cell_type": "code",
   "execution_count": null,
   "id": "d1e9a599",
   "metadata": {},
   "outputs": [],
   "source": [
    "# dg = df[df[\"N\"]>750].set_index(\"N\")\n",
    "frac = 0.1\n",
    "num = int(frac * (len(df[df[\"N\"] == 39][\"Seed\"]) - 1))\n",
    "dg = df\n",
    "dg.sort_values(by=\"log2 Process TTS\", inplace=True)\n",
    "x = []\n",
    "y = []\n",
    "for n in np.unique(dg[\"N\"]):\n",
    "    y += list(dg[dg[\"N\"] == n][-num:][\"log2 Process TTS\"])\n",
    "    x += list(dg[dg[\"N\"] == n][-num:][\"N\"])\n",
    "\n",
    "x = np.array(x)\n",
    "y = np.array(y)"
   ]
  },
  {
   "cell_type": "code",
   "execution_count": null,
   "id": "5d406334-d22f-4738-953f-33e87ac92e50",
   "metadata": {},
   "outputs": [],
   "source": [
    "lr = LinearRegression()\n",
    "lr.fit(x.reshape(-1, 1), y)\n",
    "print(lr.score(x.reshape(-1, 1), y))"
   ]
  },
  {
   "cell_type": "code",
   "execution_count": null,
   "id": "673457b5-105d-481b-bfb2-aee333595492",
   "metadata": {},
   "outputs": [],
   "source": [
    "### and if we plot both on the same one"
   ]
  },
  {
   "cell_type": "code",
   "execution_count": null,
   "id": "41d85cbd",
   "metadata": {},
   "outputs": [],
   "source": [
    "df_unionjack = pd.read_csv(\"../generator/data/cplex/run_time_d0.8_UDG_8vCPU.csv\")"
   ]
  },
  {
   "cell_type": "code",
   "execution_count": null,
   "id": "bea09a3c",
   "metadata": {},
   "outputs": [],
   "source": [
    "df_unionjack[\"log10 Process TTS\"] = np.log10(df_unionjack[\"Process TTS\"])\n",
    "df_unionjack[\"log2 Process TTS\"] = np.log2(df_unionjack[\"Process TTS\"])\n",
    "df_unionjack[\"N\"] = np.round(df_unionjack[\"L\"] ** 2 * df_unionjack[\"Density\"]).astype(\n",
    "    int\n",
    ")"
   ]
  },
  {
   "cell_type": "code",
   "execution_count": null,
   "id": "87f4f674-cb55-43e1-8eed-6c16b2578e94",
   "metadata": {},
   "outputs": [],
   "source": [
    "df_unionjack.drop(df_unionjack[df_unionjack[\"N\"] > 700].index, inplace=True)\n",
    "df_unionjack.drop(df_unionjack[df_unionjack[\"Seed\"] > 100].index, inplace=True)"
   ]
  },
  {
   "cell_type": "code",
   "execution_count": null,
   "id": "a0322509-d278-4193-b070-2aa360e3d833",
   "metadata": {},
   "outputs": [],
   "source": [
    "# dg = df[df[\"N\"]>750].set_index(\"N\")\n",
    "frac = 0.1\n",
    "num = int(frac * (len(df_unionjack[df_unionjack[\"N\"] == 39][\"Seed\"]) - 1))\n",
    "dg = df_unionjack\n",
    "dg.sort_values(by=\"log2 Process TTS\", inplace=True)\n",
    "x_unionjack = []\n",
    "y_unionjack = []\n",
    "for n in np.unique(dg[\"N\"]):\n",
    "    y_unionjack += list(dg[dg[\"N\"] == n][-num:][\"log2 Process TTS\"])\n",
    "    x_unionjack += list(dg[dg[\"N\"] == n][-num:][\"N\"])\n",
    "\n",
    "x_unionjack = np.array(x_unionjack)\n",
    "y_unionjack = np.array(y_unionjack)"
   ]
  },
  {
   "cell_type": "code",
   "execution_count": null,
   "id": "0b288a07",
   "metadata": {},
   "outputs": [],
   "source": [
    "lr_unionjack = LinearRegression()\n",
    "lr_unionjack.fit(x_unionjack.reshape(-1, 1), y_unionjack)\n",
    "print(lr_unionjack.score(x_unionjack.reshape(-1, 1), y_unionjack))"
   ]
  },
  {
   "cell_type": "code",
   "execution_count": null,
   "id": "0a12e495-e58f-4aee-9cae-bbd75b739ee4",
   "metadata": {},
   "outputs": [],
   "source": [
    "### both together"
   ]
  },
  {
   "cell_type": "code",
   "execution_count": null,
   "id": "dc39fa3d-c984-4606-accc-556d3f19ee3b",
   "metadata": {},
   "outputs": [],
   "source": [
    "%matplotlib inline\n",
    "plt.rcParams.update(DICT_RC_PARAM)\n",
    "fig, ax = plt.subplots(figsize=(15, 10))\n",
    "positions = np.unique(df_unionjack[\"N\"])\n",
    "df_unionjack.boxplot(\n",
    "    \"log10 Process TTS\", by=\"N\", ax=ax, positions=positions, widths=35, color=\"b\"\n",
    ")\n",
    "ax.plot(\n",
    "    np.unique(x_unionjack),\n",
    "    np.log(2)\n",
    "    / np.log(10)\n",
    "    * lr_unionjack.predict(np.unique(x_unionjack).reshape(-1, 1)),\n",
    "    label=r\"Radius= $\\sqrt 2$, TTS = $O(2^{\"\n",
    "    + str(np.round(lr_unionjack.coef_[0], 4))\n",
    "    + r\"N})$\",\n",
    "    color=\"b\",\n",
    ")\n",
    "\n",
    "# label = f\"Radius= $\\sqrt 2$, TTS = $O({np.round(10**(lr_unionjack.coef_[0]),4)}^N)$\", color='b')\n",
    "\n",
    "\n",
    "df.boxplot(\n",
    "    \"log10 Process TTS\", by=\"N\", ax=ax, positions=positions, widths=35, color=\"g\"\n",
    ")\n",
    "ax.plot(\n",
    "    np.unique(x),\n",
    "    np.log(2) / np.log(10) * lr.predict(np.unique(x).reshape(-1, 1)),\n",
    "    label=r\"Radius= $3$, TTS = $O(2^{\" + str(np.round(lr.coef_[0], 4)) + r\"N})$\",\n",
    "    color=\"g\",\n",
    ")\n",
    "\n",
    "# label = f\"Radius=3, TTS = $O(2^{\"+str(np.round(lr.coef_[0],4))+r\"N})$\", color='g')\n",
    "plt.suptitle(\"\")\n",
    "plt.title(\"\")\n",
    "ax.set_title(\"\")\n",
    "ax.set_ylabel(\"TTS (seconds)\")\n",
    "ax.set_xlabel(\"$N$\")\n",
    "ax.set_xscale(\"linear\")\n",
    "ax.legend()\n",
    "log_wrapper_for_logged_data(ax, y_axis=True)\n",
    "plt.savefig(\"scaling_diff_radius.png\")\n",
    "plt.show()"
   ]
  },
  {
   "cell_type": "code",
   "execution_count": null,
   "id": "190f29a4-39e1-463b-ba63-ca3cd97a43e2",
   "metadata": {},
   "outputs": [],
   "source": []
  }
 ],
 "metadata": {
  "kernelspec": {
   "display_name": "py38_cplex",
   "language": "python",
   "name": "py38_cplex"
  },
  "language_info": {
   "codemirror_mode": {
    "name": "ipython",
    "version": 3
   },
   "file_extension": ".py",
   "mimetype": "text/x-python",
   "name": "python",
   "nbconvert_exporter": "python",
   "pygments_lexer": "ipython3",
   "version": "3.8.11"
  }
 },
 "nbformat": 4,
 "nbformat_minor": 5
}
