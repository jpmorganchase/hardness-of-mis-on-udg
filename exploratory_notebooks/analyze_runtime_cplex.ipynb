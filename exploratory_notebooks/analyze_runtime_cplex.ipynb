{
 "cells": [
  {
   "cell_type": "code",
   "execution_count": null,
   "id": "5dc8b03b-7c8b-4e1a-9916-961c92b9df8b",
   "metadata": {},
   "outputs": [],
   "source": [
    "import numpy as np\n",
    "import matplotlib.pyplot as plt\n",
    "import pandas as pd\n",
    "\n",
    "from sklearn.linear_model import LinearRegression\n",
    "from utils import log_wrapper_for_logged_data, DICT_RC_PARAM"
   ]
  },
  {
   "cell_type": "code",
   "execution_count": null,
   "id": "08c9d389-021b-4836-9ae3-afefa8356c9e",
   "metadata": {},
   "outputs": [],
   "source": [
    "df = pd.read_csv(\"../generator/data/cplex/run_time_d0.8_UDG_8vCPU.csv\")"
   ]
  },
  {
   "cell_type": "code",
   "execution_count": null,
   "id": "f19167e9-bf67-4ba8-9e1b-2cf7164ac9d4",
   "metadata": {},
   "outputs": [],
   "source": [
    "df[\"log10 Process TTS\"] = np.log10(df[\"Process TTS\"])\n",
    "df[\"log2 Process TTS\"] = np.log2(df[\"Process TTS\"])\n",
    "df[\"log Process TTS\"] = np.log(df[\"Process TTS\"])\n",
    "df[\"N\"] = np.round(df[\"L\"] ** 2 * df[\"Density\"]).astype(int)"
   ]
  },
  {
   "cell_type": "code",
   "execution_count": null,
   "id": "b0ebfdd5-deb5-4d9d-b7ed-ca3e099eb423",
   "metadata": {},
   "outputs": [],
   "source": [
    "dg = df[df[\"N\"] > 750].set_index(\"N\")\n",
    "dg.sort_values(by=\"log2 Process TTS\", inplace=True)\n",
    "x = []\n",
    "y = []\n",
    "for n in np.unique(dg.index):\n",
    "    z = dg.loc[n][-10:][\"log2 Process TTS\"]\n",
    "    x += list(z.index)\n",
    "    y += list(z.values)\n",
    "x = np.array(x)\n",
    "y = np.array(y)"
   ]
  },
  {
   "cell_type": "code",
   "execution_count": null,
   "id": "5d406334-d22f-4738-953f-33e87ac92e50",
   "metadata": {},
   "outputs": [],
   "source": [
    "lr = LinearRegression()\n",
    "lr.fit(x.reshape(-1, 1), y)\n",
    "print(lr.score(x.reshape(-1, 1), y))"
   ]
  },
  {
   "cell_type": "markdown",
   "id": "7700c6d6-6286-423e-9755-94f7c9dd58b2",
   "metadata": {},
   "source": [
    "### Evaluate the boxplot with the log10 data to properly evaluate the data, then change tickers to get a nice visualization"
   ]
  },
  {
   "cell_type": "code",
   "execution_count": null,
   "id": "8034a78e-3f66-4dd4-b6a6-701895acebcc",
   "metadata": {},
   "outputs": [],
   "source": [
    "%matplotlib inline\n",
    "plt.rcParams.update(DICT_RC_PARAM)\n",
    "fig, ax = plt.subplots(figsize=(15, 10))\n",
    "positions = np.unique(df[\"N\"])\n",
    "df.boxplot(\"log10 Process TTS\", by=\"N\", ax=ax, positions=positions, widths=35)\n",
    "ax.plot(\n",
    "    np.unique(x),\n",
    "    np.log(2) / np.log(10) * lr.predict(np.unique(x).reshape(-1, 1)),\n",
    "    label=r\"Top $1\\%$ TTS = $O(2^{\" + str(np.round(lr.coef_[0], 4)) + r\"N})$\",\n",
    ")\n",
    "plt.suptitle(\"\")\n",
    "ax.set_title(\"\")\n",
    "ax.set_ylabel(\"TTS (seconds)\")\n",
    "ax.set_xlabel(\"$N$\")\n",
    "ax.set_xscale(\"linear\")\n",
    "ax.legend()\n",
    "log_wrapper_for_logged_data(ax, y_axis=True, base=10)\n",
    "plt.savefig(\"Process_TTS_scaling_d08.png\")\n",
    "ax.set_title(\"Time to Solution on CPLEX for LxL Unit Disk Union-Jack on 1000 samples\")\n",
    "plt.show()"
   ]
  },
  {
   "cell_type": "code",
   "execution_count": null,
   "id": "190f29a4-39e1-463b-ba63-ca3cd97a43e2",
   "metadata": {},
   "outputs": [],
   "source": [
    "def get_cplex_runtimes(d):\n",
    "    df = pd.read_csv(f\"../generator/data/cplex/run_time_d{d}_UDG_8vCPU.csv\")\n",
    "    df[\"log2 Process TTS\"] = np.log2(df[\"Process TTS\"].astype(float))\n",
    "    df[\"log10 Process TTS\"] = np.log10(df[\"Process TTS\"].astype(float))\n",
    "    df[\"N\"] = np.round(df[\"L\"] ** 2 * df[\"Density\"]).astype(int)\n",
    "    return df\n",
    "\n",
    "\n",
    "def get_regression_Ns(d_list, skip=500, ax=None, top_val=10):\n",
    "    d_list.sort(reverse=True)\n",
    "    scalings = []\n",
    "    for d in d_list:\n",
    "        df = get_cplex_runtimes(d)\n",
    "        lr = LinearRegression()\n",
    "        df[\"log2 Process TTS\"] = np.log2(df[\"Process TTS\"])\n",
    "        df_groupby = df[[\"N\", \"log2 Process TTS\"]].groupby(\"N\")[\"log2 Process TTS\"]\n",
    "        z_all = (\n",
    "            df_groupby.nlargest(top_val)\n",
    "            .reset_index()[[\"N\", \"log2 Process TTS\"]]\n",
    "            .set_index(\"N\")\n",
    "        )\n",
    "        z_regression = z_all[z_all.index > skip]\n",
    "        x = z_regression.index.values.reshape(-1, 1)\n",
    "        y = z_regression.values\n",
    "        lr.fit(x, y)\n",
    "        print(\n",
    "            f\"{d}: score:{lr.score(x, y)}, coef:{lr.coef_}, intercept:{lr.intercept_}\"\n",
    "        )\n",
    "\n",
    "        if ax is None:\n",
    "            fig, ax = plt.subplots(figsize=(15, 10))\n",
    "\n",
    "        ax.scatter(z_all.index.values, 2 ** (z_all.values))\n",
    "        ax.set_yscale(\"log\")\n",
    "        ax.plot(\n",
    "            x,\n",
    "            2 ** (lr.predict(x)),\n",
    "            label=r\"$\\rho=\"\n",
    "            + str(d)\n",
    "            + r\"$, $O(2^{\"\n",
    "            + str(np.round(lr.coef_[0][0], 4))\n",
    "            + r\"N})$\",\n",
    "        )\n",
    "        scalings.append(get_intervals(x, y))\n",
    "\n",
    "    ax.set_xlabel(\"N\")\n",
    "    ax.set_ylabel(\"TTS (seconds)\")\n",
    "    ax.set_title(\n",
    "        f\"Cplex runtime for different densities\\n (LxL UJ-lattice, 1000 samples each)\"\n",
    "    )\n",
    "    ax.legend()\n",
    "    return scalings\n",
    "\n",
    "\n",
    "def get_top_xpercent(top_x_percent=10):\n",
    "    return lambda x: np.sort(x)[-int(len(x) * top_x_percent / 100) :]"
   ]
  },
  {
   "cell_type": "code",
   "execution_count": null,
   "id": "877b1690-0ea4-41cb-930d-df43a0122d54",
   "metadata": {},
   "outputs": [],
   "source": [
    "def get_intervals(x, y):\n",
    "    from scipy.stats import t, linregress, normaltest\n",
    "\n",
    "    res = linregress(x.flatten(), y.flatten())\n",
    "    tinv = lambda p, df: abs(t.ppf(p / 2, df))\n",
    "    ts = tinv(0.05, len(x) - 2)\n",
    "\n",
    "    def convert(x):\n",
    "        return x\n",
    "\n",
    "    # print(f\"slope (95%): {res.slope:.6f} +/- {ts*res.stderr:.6f}\")\n",
    "    # 95% CI is not symetric\n",
    "    print(\n",
    "        f\"slope (95%): {convert(res.slope):.6f}, {convert(res.slope+ts*res.stderr):.6f}, {convert(res.slope-ts*res.stderr):.6f}\"\n",
    "    )\n",
    "    converted = convert(res.slope)\n",
    "    return (\n",
    "        converted,\n",
    "        converted - convert(res.slope - ts * res.stderr),\n",
    "        convert(res.slope + ts * res.stderr) - converted,\n",
    "    )"
   ]
  },
  {
   "cell_type": "code",
   "execution_count": null,
   "id": "1372fd3f-47b6-47dd-8562-f0419eddbc1a",
   "metadata": {},
   "outputs": [],
   "source": [
    "d = 0.75\n",
    "df = get_cplex_runtimes(d)"
   ]
  },
  {
   "cell_type": "code",
   "execution_count": null,
   "id": "1312f091-1fed-4bd6-8dd5-ba466cb30d81",
   "metadata": {},
   "outputs": [],
   "source": [
    "np.all(df[\"Density\"] == d), np.all(df.groupby(\"L\").count() == 1001)"
   ]
  },
  {
   "cell_type": "code",
   "execution_count": null,
   "id": "128173c9-a2ba-4700-8596-8767ffeb62dc",
   "metadata": {},
   "outputs": [],
   "source": [
    "densities = [0.7, 0.75, 0.8, 0.85, 0.9, 0.95]\n",
    "skip = 750\n",
    "top_val = int(0.01 * 1000)  # 1% of 1000 seeds\n",
    "scalings = get_regression_Ns(densities, top_val=top_val, skip=skip)\n",
    "# score of 0.6, 0.65 too low"
   ]
  },
  {
   "cell_type": "code",
   "execution_count": null,
   "id": "91b23bb3-c098-4339-a52b-a3918d17d36c",
   "metadata": {},
   "outputs": [],
   "source": [
    "plt.rcParams.update(DICT_RC_PARAM)\n",
    "\n",
    "y = [x[0] for x in scalings]\n",
    "errors = np.array([x[1:] for x in scalings]).T\n",
    "fig, ax = plt.subplots(figsize=(15, 10))\n",
    "ax.grid(visible=True)\n",
    "ax.errorbar(x=densities, y=y, yerr=errors, marker=\"o\", linestyle=\"-\", capsize=4)\n",
    "ax.set_xlabel(r\"Filling fraction ($\\rho$)\")\n",
    "ax.set_ylabel(\"Exponent Coefficient ($a$)\")\n",
    "ax.set\n",
    "# ax.set_title(\"Top 1\\% CPLEX TTS = $O(2^{aN})$, with $95\\%$ confidence interval\\n (residual not following normal distribution)\")\n",
    "plt.savefig(\"Process_TTS_scaling_various_densities.png\")"
   ]
  },
  {
   "cell_type": "code",
   "execution_count": null,
   "id": "cd9c40a3-7a55-4b9f-b3f1-98d45335ef8e",
   "metadata": {},
   "outputs": [],
   "source": []
  }
 ],
 "metadata": {
  "kernelspec": {
   "display_name": "py38_aws_cplex",
   "language": "python",
   "name": "py38"
  },
  "language_info": {
   "codemirror_mode": {
    "name": "ipython",
    "version": 3
   },
   "file_extension": ".py",
   "mimetype": "text/x-python",
   "name": "python",
   "nbconvert_exporter": "python",
   "pygments_lexer": "ipython3",
   "version": "3.8.11"
  }
 },
 "nbformat": 4,
 "nbformat_minor": 5
}
