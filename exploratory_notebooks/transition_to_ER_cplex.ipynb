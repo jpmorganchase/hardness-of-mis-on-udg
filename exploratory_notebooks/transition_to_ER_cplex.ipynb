{
 "cells": [
  {
   "cell_type": "code",
   "execution_count": null,
   "id": "b9ea958f-4562-4e45-95d7-f33d2a8f5c52",
   "metadata": {},
   "outputs": [],
   "source": [
    "import matplotlib.pyplot as plt\n",
    "import numpy as np\n",
    "import pandas as pd\n",
    "from utils import log_wrapper_for_logged_data, DICT_RC_PARAM"
   ]
  },
  {
   "cell_type": "code",
   "execution_count": null,
   "id": "de93b1e4-8066-4142-b9eb-d489fa8240be",
   "metadata": {},
   "outputs": [],
   "source": [
    "df = pd.read_csv(f\"../generator/data/cplex/final_results/transition_to_ER/L21_ER.csv\")"
   ]
  },
  {
   "cell_type": "code",
   "execution_count": null,
   "id": "cd1597e3-ac19-4a7e-aaff-6acd9e4f4b44",
   "metadata": {},
   "outputs": [],
   "source": [
    "df = df[8:]\n",
    "df = df.astype(float)\n",
    "df"
   ]
  },
  {
   "cell_type": "code",
   "execution_count": null,
   "id": "d9bffa03-88ae-447b-a6bc-04ce1de98501",
   "metadata": {},
   "outputs": [],
   "source": [
    "data = np.log10(df[\"Process TTS\"])[:500]\n",
    "\n",
    "med_val = np.median(data)\n",
    "std_val = np.std(data)\n",
    "nb_ER_runs = len(df)\n",
    "\n",
    "med_val, std_val, nb_ER_runs"
   ]
  },
  {
   "cell_type": "code",
   "execution_count": null,
   "id": "3286837e-90da-4775-b179-5ab1c12d2d74",
   "metadata": {},
   "outputs": [],
   "source": [
    "a = plt.boxplot(data)\n",
    "min_wiskers, max_whiskers = [item.get_ydata()[1] for item in a[\"whiskers\"]]\n",
    "Q1 = data.describe()[\"25%\"]\n",
    "Q3 = data.describe()[\"75%\"]"
   ]
  },
  {
   "cell_type": "code",
   "execution_count": null,
   "id": "854ea8c4-e3d8-45cd-80c2-669a629003ff",
   "metadata": {},
   "outputs": [],
   "source": [
    "### the transition"
   ]
  },
  {
   "cell_type": "code",
   "execution_count": null,
   "id": "e289b026-96d4-4f1f-a567-bfc65cb1c4a4",
   "metadata": {},
   "outputs": [],
   "source": [
    "df_rewired = pd.read_csv(\n",
    "    f\"../generator/data/cplex/final_results/transition_to_ER/L21_rewired_final.csv\"\n",
    ")"
   ]
  },
  {
   "cell_type": "code",
   "execution_count": null,
   "id": "a3529500-4488-4a7b-8c67-957ab33b7ebf",
   "metadata": {},
   "outputs": [],
   "source": [
    "max_seed = df_rewired.groupby(\"Frac Rewired\").count()[\"L\"][20]\n",
    "max_seed"
   ]
  },
  {
   "cell_type": "code",
   "execution_count": null,
   "id": "ecff9381-94ec-4c7b-b0ab-f7376fff42df",
   "metadata": {},
   "outputs": [],
   "source": [
    "max_seed = 150\n",
    "\n",
    "df_regular = pd.read_csv(f\"../generator/data/cplex/run_time_d0.8_UDG_8vCPU.csv\")\n",
    "df_regular = df_regular[df_regular[\"L\"] == 21].set_index(\"Seed\")[:max_seed]\n",
    "df_regular[\"Frac Rewired\"] = 0"
   ]
  },
  {
   "cell_type": "code",
   "execution_count": null,
   "id": "6cd0f502-211c-4244-b018-f06f578443bf",
   "metadata": {},
   "outputs": [],
   "source": [
    "# df = df_rewired\n",
    "df = pd.concat([df_rewired, df_regular])\n",
    "df[\"log10 Process TTS\"] = np.log10(df[\"Process TTS\"])\n",
    "df[\"Fraction Rewired\"] = np.round(df[\"Frac Rewired\"] * 0.05, 2)"
   ]
  },
  {
   "cell_type": "code",
   "execution_count": null,
   "id": "4849517b-d629-4420-a73f-e3e9455b6e0e",
   "metadata": {},
   "outputs": [],
   "source": [
    "plt.rcParams.update(DICT_RC_PARAM)\n",
    "fig, ax = plt.subplots(figsize=(8, 8))\n",
    "\n",
    "positions = np.unique(df[\"Fraction Rewired\"])\n",
    "df.boxplot(\n",
    "    \"log10 Process TTS\",\n",
    "    by=\"Fraction Rewired\",\n",
    "    ax=ax,\n",
    "    positions=positions,\n",
    "    widths=0.02,\n",
    "    color=dict(boxes=\"b\", whiskers=\"b\", medians=\"b\", caps=\"b\"),\n",
    ")\n",
    "ax.hlines(\n",
    "    med_val, *ax.get_xlim(), color=\"r\", label=f\"median TTS ER Graph {nb_ER_runs} seeds\"\n",
    ")\n",
    "ax.fill_between(ax.get_xlim(), Q1, Q3, facecolor=\"r\", alpha=0.07)\n",
    "ax.fill_between(ax.get_xlim(), min_wiskers, max_whiskers, facecolor=\"r\", alpha=0.04)\n",
    "# ax.set_title(\"Rewiring an LxL UD Union Jack graph leads to a complexity plateau for gurobi (L=21)\\n 20 seeds per percentage of moved edges, constant number of edges\")\n",
    "ax.set_title(\"\")\n",
    "fig.suptitle(\"\")\n",
    "ax.set_xlabel(\"Fraction of Edges Rewired\")\n",
    "ax.set_ylabel(\"TTS (seconds)\")\n",
    "# ax.set_xticks(np.linspace(0,1,21))\n",
    "# ax.set_xlim([0,1.05])\n",
    "log_wrapper_for_logged_data(ax, y_axis=True, base=10)\n",
    "ax.set_xlim([-0.05, 1.05])\n",
    "ax.set_xticks([np.round(r, 2) for r in np.linspace(0, 1, 11)])\n",
    "ax.set_xticklabels([np.round(r, 2) for r in np.linspace(0, 1, 11)])\n",
    "plt.savefig(\"Process_TTS_rewiring.png\")"
   ]
  },
  {
   "cell_type": "code",
   "execution_count": null,
   "id": "f49bb703-aa3b-48f8-a17c-450aca653149",
   "metadata": {},
   "outputs": [],
   "source": []
  },
  {
   "cell_type": "code",
   "execution_count": null,
   "id": "2b66867c-4314-4435-a56c-a0de71d17df2",
   "metadata": {},
   "outputs": [],
   "source": []
  }
 ],
 "metadata": {
  "kernelspec": {
   "display_name": "py38_aws_cplex",
   "language": "python",
   "name": "py38"
  },
  "language_info": {
   "codemirror_mode": {
    "name": "ipython",
    "version": 3
   },
   "file_extension": ".py",
   "mimetype": "text/x-python",
   "name": "python",
   "nbconvert_exporter": "python",
   "pygments_lexer": "ipython3",
   "version": "3.8.11"
  }
 },
 "nbformat": 4,
 "nbformat_minor": 5
}
