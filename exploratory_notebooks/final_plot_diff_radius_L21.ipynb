{
 "cells": [
  {
   "cell_type": "markdown",
   "id": "52c909ee-2825-4edd-83b9-1966f013bf4b",
   "metadata": {},
   "source": [
    "### now we have results for a smaller size problem but up to rewiring all the edges "
   ]
  },
  {
   "cell_type": "code",
   "execution_count": null,
   "id": "e5fed25d-bdcf-4bd6-8d2e-36d35196dc6d",
   "metadata": {},
   "outputs": [],
   "source": [
    "import pandas as pd\n",
    "import numpy as np\n",
    "import matplotlib.pyplot as plt\n",
    "from utils import log_wrapper_for_logged_data, DICT_RC_PARAM\n",
    "from sklearn.linear_model import LinearRegression\n",
    "\n"
   ]
  },
  {
   "cell_type": "code",
   "execution_count": null,
   "id": "6fd5ab5e-aeaa-4da1-aab2-3bcca2d840cc",
   "metadata": {},
   "outputs": [],
   "source": [
    "df_time = pd.read_csv('../generator/data/cplex/final_results/diff_radius_UDG/L21_diff_radius_d0.8.csv')\n",
    "df_time"
   ]
  },
  {
   "cell_type": "code",
   "execution_count": null,
   "id": "d028f9b0-bab6-4e11-bf56-422614b87dac",
   "metadata": {},
   "outputs": [],
   "source": [
    "\n",
    "df = pd.DataFrame()\n",
    "for radius in list(np.sort(list(set(df_time['UDG Radius'])))):\n",
    "    #print(radius)\n",
    "    df[radius] = list(df_time[df_time['UDG Radius'] == float(radius)]['Process TTS'])[:100]\n",
    "\n",
    "\n",
    "\n"
   ]
  },
  {
   "cell_type": "code",
   "execution_count": null,
   "id": "f9348821-def2-43f9-9766-63713d1dfbfc",
   "metadata": {},
   "outputs": [],
   "source": [
    "df[1.000]"
   ]
  },
  {
   "cell_type": "code",
   "execution_count": null,
   "id": "45069f4a-0b50-4630-9621-28293630b6d3",
   "metadata": {},
   "outputs": [],
   "source": [
    "fig, ax = plt.subplots(figsize=(15,10))\n",
    "\n",
    "plt.rcParams.update(DICT_RC_PARAM)\n",
    "\n",
    "means = []\n",
    "for value in df.columns.values:\n",
    "    means.append(np.median(df[value]))\n",
    "\n",
    "#bp1 = ax.boxplot(np.log10(df), positions = [float(r) for r in df.columns.values], widths=0.2)\n",
    "bp1 = ax.boxplot(np.log10(df), positions = [float(r) for r in df.columns.values], widths=0.1, showfliers=False)\n",
    "plt.setp(bp1['boxes'], color='blue')\n",
    "plt.setp(bp1['whiskers'], color='blue')\n",
    "plt.setp(bp1['medians'], color='blue')\n",
    "scatter = ax.plot([float(r) for r in df.columns.values], np.log10(means), 'b-')\n",
    "#scatter = ax.plot([float(r) for r in df.columns.values], means, 'b-')\n",
    "\n",
    "#ax.legend([bp1[\"boxes\"][0]], ['L=21, d=0.8'], loc='upper right')\n",
    "ax.set_xticks(range(31))\n",
    "ax.set_xticklabels(range(31))\n",
    "ax.set_xlabel(\"Radius of UDG\")\n",
    "ax.set_ylabel(\"TTS (seconds)\")\n",
    "#ax.set_yscale('log')\n",
    "\n",
    "\n",
    "log_wrapper_for_logged_data(ax, y_axis=True)\n",
    "ax.grid()\n",
    "plt.savefig('Process_TTS_diff_radius_final.png')"
   ]
  },
  {
   "cell_type": "code",
   "execution_count": null,
   "id": "f6f5eda3-ab3e-442b-b7ea-efb7a1bc44a3",
   "metadata": {},
   "outputs": [],
   "source": [
    "df2 = pd.DataFrame()\n",
    "for radius in list(np.sort(list(set(df_time['UDG Radius']))))[:18]:\n",
    "    df2[radius] = list(df_time[df_time['UDG Radius'] == float(radius)]['Process TTS'])[:100]\n"
   ]
  },
  {
   "cell_type": "code",
   "execution_count": null,
   "id": "eca59747-680d-4f23-ad44-a0f5af90aa2d",
   "metadata": {},
   "outputs": [],
   "source": [
    "fig, ax1 = plt.subplots(figsize=(15,10))\n",
    "\n",
    "plt.rcParams.update(DICT_RC_PARAM)\n",
    "\n",
    "means = []\n",
    "for value in df.columns.values:\n",
    "    means.append(np.median(df[value]))\n",
    "\n",
    "#bp1 = ax.boxplot(np.log10(df), positions = [float(r) for r in df.columns.values], widths=0.2)\n",
    "bp1 = ax1.boxplot(np.log10(df), positions = [float(r) for r in df.columns.values], widths=0.1, showfliers=False)\n",
    "plt.setp(bp1['boxes'], color='blue')\n",
    "plt.setp(bp1['whiskers'], color='blue')\n",
    "plt.setp(bp1['medians'], color='blue')\n",
    "scatter = ax1.plot([float(r) for r in df.columns.values], np.log10(means), 'b-')\n",
    "#scatter = ax.plot([float(r) for r in df.columns.values], means, 'b-')\n",
    "\n",
    "#ax.legend([bp1[\"boxes\"][0]], ['L=21, d=0.8'], loc='upper right')\n",
    "ax1.set_xticks(range(31))\n",
    "ax1.set_xticklabels(range(31))\n",
    "ax1.set_xlabel(\"Radius of UDG\")\n",
    "ax1.set_ylabel(\"TTS (seconds)\")\n",
    "#ax.set_yscale('log')\n",
    "\n",
    "#--\n",
    "left, bottom, width, height = [0.28, 0.55, 0.3, 0.3]\n",
    "ax2 = fig.add_axes([left, bottom, width, height])\n",
    "\n",
    "bp1 = ax2.boxplot(np.log10(df2), positions = [float(r) for r in df.columns.values][:18], widths=0.1, showfliers=False)\n",
    "plt.setp(bp1['boxes'], color='blue')\n",
    "plt.setp(bp1['whiskers'], color='blue')\n",
    "plt.setp(bp1['medians'], color='blue')\n",
    "scatter = ax2.plot([float(r) for r in df.columns.values][:18], np.log10(means)[:18], 'b-')\n",
    "#scatter = ax.plot([float(r) for r in df.columns.values], means, 'b-')\n",
    "\n",
    "#ax.legend([bp1[\"boxes\"][0]], ['L=21, d=0.8'], loc='upper right')\n",
    "ax2.set_xticks(range(7))\n",
    "ax2.set_xticklabels(range(7))\n",
    "#ax2.set_xlabel(\"Radius of UDG\")\n",
    "#ax2.set_ylabel(\"TTS (seconds)\")\n",
    "\n",
    "log_wrapper_for_logged_data(ax, y_axis=True)\n",
    "ax1.grid()\n",
    "ax2.grid()\n",
    "plt.savefig('Process_TTS_diff_radius_final.png')"
   ]
  },
  {
   "cell_type": "code",
   "execution_count": null,
   "id": "629a95c8-1da5-4141-b3f8-6ae241c445f9",
   "metadata": {},
   "outputs": [],
   "source": [
    "from mpl_toolkits.axes_grid1.inset_locator import (inset_axes, InsetPosition,\n",
    "                                                  mark_inset)"
   ]
  },
  {
   "cell_type": "code",
   "execution_count": null,
   "id": "e84d6ed6-3d64-41b2-a968-1dbebb4205fb",
   "metadata": {},
   "outputs": [],
   "source": [
    "fig, ax1 = plt.subplots(figsize=(15,10))\n",
    "%matplotlib inline\n",
    "plt.rcParams.update(DICT_RC_PARAM)\n",
    "\n",
    "means = []\n",
    "for value in df.columns.values:\n",
    "    means.append(np.median(df[value]))\n",
    "\n",
    "#bp1 = ax.boxplot(np.log10(df), positions = [float(r) for r in df.columns.values], widths=0.2)\n",
    "bp1 = ax1.boxplot(np.log10(df), positions = [float(r) for r in df.columns.values], widths=0.1, showfliers=False)\n",
    "plt.setp(bp1['boxes'], color='blue')\n",
    "plt.setp(bp1['whiskers'], color='blue')\n",
    "plt.setp(bp1['medians'], color='blue')\n",
    "scatter = ax1.plot([float(r) for r in df.columns.values], np.log10(means), 'b-')\n",
    "#scatter = ax.plot([float(r) for r in df.columns.values], means, 'b-')\n",
    "\n",
    "#ax.legend([bp1[\"boxes\"][0]], ['L=21, d=0.8'], loc='upper right')\n",
    "ax1.set_xticks(range(31))\n",
    "ax1.set_xticklabels(range(31))\n",
    "ax1.set_xlabel(\"Radius of UDG\")\n",
    "ax1.set_ylabel(\"TTS (seconds)\")\n",
    "#log_wrapper_for_logged_data(ax1, y_axis=True)\n",
    "\n",
    "\n",
    "\n",
    "\n",
    "\n",
    "\n",
    "\n",
    "# Create a set of inset Axes: these should fill the bounding box allocated to\n",
    "# them.\n",
    "ax2 = plt.axes([1,0, 6,2])\n",
    "# Manually set the position and relative size of the inset axes within ax1\n",
    "ip = InsetPosition(ax1, [0.6,0.6,0.6,0.5])\n",
    "ax2.set_axes_locator(ip)\n",
    "# Mark the region corresponding to the inset axes on ax1 and draw lines\n",
    "# in grey linking the two axes.\n",
    "\n",
    "mark_inset(ax1, ax2, loc1=2, loc2=4, fc=\"none\", ec='0.5')\n",
    "\n",
    "bp1=ax2.boxplot(np.log10(df2), positions = [float(r) for r in df.columns.values][:18], widths=0.1, showfliers=False)\n",
    "plt.setp(bp1['boxes'], color='blue')\n",
    "plt.setp(bp1['whiskers'], color='blue')\n",
    "plt.setp(bp1['medians'], color='blue')\n",
    "scatter = ax2.plot([float(r) for r in df.columns.values][:18], np.log10(means)[:18], 'b-')\n",
    "#scatter = ax.plot([float(r) for r in df.columns.values], means, 'b-')\n",
    "\n",
    "#ax.legend([bp1[\"boxes\"][0]], ['L=21, d=0.8'], loc='upper right')\n",
    "ax2.set_xticks(range(7))\n",
    "ax2.set_xticklabels(range(7))\n",
    "ax2.grid()\n",
    "#ax2.set_yscale('log')\n",
    "\n",
    "\n",
    "#ax.legend([bp1[\"boxes\"][0]], ['L=21, d=0.8'], loc='upper right')\n",
    "ax1.set_xticks(range(31))\n",
    "ax1.set_xticklabels(range(31))\n",
    "ax1.set_xlabel(\"Radius of UDG\")\n",
    "ax1.set_ylabel(\"TTS (seconds)\")\n",
    "ax1.grid()\n",
    "#plt.show()\n",
    "log_wrapper_for_logged_data(ax1, y_axis=True)\n",
    "log_wrapper_for_logged_data(ax2, y_axis=True)\n",
    "plt.savefig('Process_TTS_diff_radius_final.png')"
   ]
  },
  {
   "cell_type": "code",
   "execution_count": null,
   "id": "5e609acd-78b0-4484-8aa4-b89fd6702352",
   "metadata": {},
   "outputs": [],
   "source": []
  }
 ],
 "metadata": {
  "kernelspec": {
   "display_name": "py38_aws_cplex",
   "language": "python",
   "name": "py38"
  },
  "language_info": {
   "codemirror_mode": {
    "name": "ipython",
    "version": 3
   },
   "file_extension": ".py",
   "mimetype": "text/x-python",
   "name": "python",
   "nbconvert_exporter": "python",
   "pygments_lexer": "ipython3",
   "version": "3.8.11"
  }
 },
 "nbformat": 4,
 "nbformat_minor": 5
}
